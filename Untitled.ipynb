{
 "cells": [
  {
   "cell_type": "code",
   "execution_count": 152,
   "metadata": {},
   "outputs": [],
   "source": [
    "import requests"
   ]
  },
  {
   "cell_type": "code",
   "execution_count": 153,
   "metadata": {},
   "outputs": [
    {
     "name": "stdout",
     "output_type": "stream",
     "text": [
      "200\n"
     ]
    }
   ],
   "source": [
    "company_code = 'aapl'\n",
    "token = 'pk_046a8af426b441f7bde02918064ac46b'\n",
    "address = \"https://cloud.iexapis.com/stable/stock/{}/chart?token={}\".format(company_code,token)\n",
    "response = requests.get(address)\n",
    "\n",
    "print(response.status_code)\n"
   ]
  },
  {
   "cell_type": "code",
   "execution_count": 154,
   "metadata": {},
   "outputs": [
    {
     "name": "stdout",
     "output_type": "stream",
     "text": [
      "[\n",
      "    {\n",
      "        \"change\": 0,\n",
      "        \"changeOverTime\": 0,\n",
      "        \"changePercent\": 0,\n",
      "        \"close\": 298.81,\n",
      "        \"date\": \"2020-03-02\",\n",
      "        \"high\": 301.44,\n",
      "        \"label\": \"Mar 2\",\n",
      "        \"low\": 277.72,\n",
      "        \"open\": 282.28,\n",
      "        \"uClose\": 298.81,\n",
      "        \"uHigh\": 301.44,\n",
      "        \"uLow\": 277.72,\n",
      "        \"uOpen\": 282.28,\n",
      "        \"uVolume\": 85349339,\n",
      "        \"volume\": 85349339\n",
      "    },\n",
      "    {\n",
      "        \"change\": -9.49,\n",
      "        \"changeOverTime\": -0.031759,\n",
      "        \"changePercent\": -3.1759,\n",
      "        \"close\": 289.32,\n",
      "        \"date\": \"2020-03-03\",\n",
      "        \"high\": 304,\n",
      "        \"label\": \"Mar 3\",\n",
      "        \"low\": 285.8,\n",
      "        \"open\": 303.67,\n",
      "        \"uClose\": 289.32,\n",
      "        \"uHigh\": 304,\n",
      "        \"uLow\": 285.8,\n",
      "        \"uOpen\": 303.67,\n",
      "        \"uVolume\": 79868852,\n",
      "        \"volume\": 79868852\n",
      "    },\n",
      "    {\n",
      "        \"change\": 13.42,\n",
      "        \"changeOverTime\": 0.013152,\n",
      "        \"changePercent\": 4.6385,\n",
      "        \"close\": 302.74,\n",
      "        \"date\": \"2020-03-04\",\n",
      "        \"high\": 303.4,\n",
      "        \"label\": \"Mar 4\",\n",
      "        \"low\": 293.13,\n",
      "        \"open\": 296.44,\n",
      "        \"uClose\": 302.74,\n",
      "        \"uHigh\": 303.4,\n",
      "        \"uLow\": 293.13,\n",
      "        \"uOpen\": 296.44,\n",
      "        \"uVolume\": 54794568,\n",
      "        \"volume\": 54794568\n",
      "    },\n",
      "    {\n",
      "        \"change\": -9.82,\n",
      "        \"changeOverTime\": -0.019712,\n",
      "        \"changePercent\": -3.2437,\n",
      "        \"close\": 292.92,\n",
      "        \"date\": \"2020-03-05\",\n",
      "        \"high\": 299.55,\n",
      "        \"label\": \"Mar 5\",\n",
      "        \"low\": 291.41,\n",
      "        \"open\": 295.52,\n",
      "        \"uClose\": 292.92,\n",
      "        \"uHigh\": 299.55,\n",
      "        \"uLow\": 291.41,\n",
      "        \"uOpen\": 295.52,\n",
      "        \"uVolume\": 46893219,\n",
      "        \"volume\": 46893219\n",
      "    },\n",
      "    {\n",
      "        \"change\": -3.89,\n",
      "        \"changeOverTime\": -0.03273,\n",
      "        \"changePercent\": -1.328,\n",
      "        \"close\": 289.03,\n",
      "        \"date\": \"2020-03-06\",\n",
      "        \"high\": 290.82,\n",
      "        \"label\": \"Mar 6\",\n",
      "        \"low\": 281.23,\n",
      "        \"open\": 282,\n",
      "        \"uClose\": 289.03,\n",
      "        \"uHigh\": 290.82,\n",
      "        \"uLow\": 281.23,\n",
      "        \"uOpen\": 282,\n",
      "        \"uVolume\": 56544246,\n",
      "        \"volume\": 56544246\n",
      "    },\n",
      "    {\n",
      "        \"change\": -22.86,\n",
      "        \"changeOverTime\": -0.109233,\n",
      "        \"changePercent\": -7.9092,\n",
      "        \"close\": 266.17,\n",
      "        \"date\": \"2020-03-09\",\n",
      "        \"high\": 278.09,\n",
      "        \"label\": \"Mar 9\",\n",
      "        \"low\": 263,\n",
      "        \"open\": 263.75,\n",
      "        \"uClose\": 266.17,\n",
      "        \"uHigh\": 278.09,\n",
      "        \"uLow\": 263,\n",
      "        \"uOpen\": 263.75,\n",
      "        \"uVolume\": 71686208,\n",
      "        \"volume\": 71686208\n",
      "    },\n",
      "    {\n",
      "        \"change\": 19.17,\n",
      "        \"changeOverTime\": -0.045079,\n",
      "        \"changePercent\": 7.2022,\n",
      "        \"close\": 285.34,\n",
      "        \"date\": \"2020-03-10\",\n",
      "        \"high\": 286.44,\n",
      "        \"label\": \"Mar 10\",\n",
      "        \"low\": 269.37,\n",
      "        \"open\": 277.14,\n",
      "        \"uClose\": 285.34,\n",
      "        \"uHigh\": 286.44,\n",
      "        \"uLow\": 269.37,\n",
      "        \"uOpen\": 277.14,\n",
      "        \"uVolume\": 71322520,\n",
      "        \"volume\": 71322520\n",
      "    },\n",
      "    {\n",
      "        \"change\": -9.91,\n",
      "        \"changeOverTime\": -0.078244,\n",
      "        \"changePercent\": -3.473,\n",
      "        \"close\": 275.43,\n",
      "        \"date\": \"2020-03-11\",\n",
      "        \"high\": 281.22,\n",
      "        \"label\": \"Mar 11\",\n",
      "        \"low\": 271.86,\n",
      "        \"open\": 277.39,\n",
      "        \"uClose\": 275.43,\n",
      "        \"uHigh\": 281.22,\n",
      "        \"uLow\": 271.86,\n",
      "        \"uOpen\": 277.39,\n",
      "        \"uVolume\": 64094970,\n",
      "        \"volume\": 64094970\n",
      "    },\n",
      "    {\n",
      "        \"change\": -27.2,\n",
      "        \"changeOverTime\": -0.169271,\n",
      "        \"changePercent\": -9.8755,\n",
      "        \"close\": 248.23,\n",
      "        \"date\": \"2020-03-12\",\n",
      "        \"high\": 270,\n",
      "        \"label\": \"Mar 12\",\n",
      "        \"low\": 248,\n",
      "        \"open\": 255.94,\n",
      "        \"uClose\": 248.23,\n",
      "        \"uHigh\": 270,\n",
      "        \"uLow\": 248,\n",
      "        \"uOpen\": 255.94,\n",
      "        \"uVolume\": 104618517,\n",
      "        \"volume\": 104618517\n",
      "    },\n",
      "    {\n",
      "        \"change\": 29.74,\n",
      "        \"changeOverTime\": -0.069743,\n",
      "        \"changePercent\": 11.9808,\n",
      "        \"close\": 277.97,\n",
      "        \"date\": \"2020-03-13\",\n",
      "        \"high\": 279.92,\n",
      "        \"label\": \"Mar 13\",\n",
      "        \"low\": 252.95,\n",
      "        \"open\": 264.89,\n",
      "        \"uClose\": 277.97,\n",
      "        \"uHigh\": 279.92,\n",
      "        \"uLow\": 252.95,\n",
      "        \"uOpen\": 264.89,\n",
      "        \"uVolume\": 92683032,\n",
      "        \"volume\": 92683032\n",
      "    },\n",
      "    {\n",
      "        \"change\": -35.76,\n",
      "        \"changeOverTime\": -0.189418,\n",
      "        \"changePercent\": -12.8647,\n",
      "        \"close\": 242.21,\n",
      "        \"date\": \"2020-03-16\",\n",
      "        \"high\": 259.08,\n",
      "        \"label\": \"Mar 16\",\n",
      "        \"low\": 240,\n",
      "        \"open\": 241.95,\n",
      "        \"uClose\": 242.21,\n",
      "        \"uHigh\": 259.08,\n",
      "        \"uLow\": 240,\n",
      "        \"uOpen\": 241.95,\n",
      "        \"uVolume\": 80605865,\n",
      "        \"volume\": 80605865\n",
      "    },\n",
      "    {\n",
      "        \"change\": 10.65,\n",
      "        \"changeOverTime\": -0.153777,\n",
      "        \"changePercent\": 4.397,\n",
      "        \"close\": 252.86,\n",
      "        \"date\": \"2020-03-17\",\n",
      "        \"high\": 257.61,\n",
      "        \"label\": \"Mar 17\",\n",
      "        \"low\": 238.4,\n",
      "        \"open\": 247.51,\n",
      "        \"uClose\": 252.86,\n",
      "        \"uHigh\": 257.61,\n",
      "        \"uLow\": 238.4,\n",
      "        \"uOpen\": 247.51,\n",
      "        \"uVolume\": 81013965,\n",
      "        \"volume\": 81013965\n",
      "    },\n",
      "    {\n",
      "        \"change\": -6.19,\n",
      "        \"changeOverTime\": -0.174492,\n",
      "        \"changePercent\": -2.448,\n",
      "        \"close\": 246.67,\n",
      "        \"date\": \"2020-03-18\",\n",
      "        \"high\": 250,\n",
      "        \"label\": \"Mar 18\",\n",
      "        \"low\": 237.12,\n",
      "        \"open\": 239.77,\n",
      "        \"uClose\": 246.67,\n",
      "        \"uHigh\": 250,\n",
      "        \"uLow\": 237.12,\n",
      "        \"uOpen\": 239.77,\n",
      "        \"uVolume\": 75058406,\n",
      "        \"volume\": 75058406\n",
      "    },\n",
      "    {\n",
      "        \"change\": -1.89,\n",
      "        \"changeOverTime\": -0.180817,\n",
      "        \"changePercent\": -0.7662,\n",
      "        \"close\": 244.78,\n",
      "        \"date\": \"2020-03-19\",\n",
      "        \"high\": 252.84,\n",
      "        \"label\": \"Mar 19\",\n",
      "        \"low\": 242.61,\n",
      "        \"open\": 247.39,\n",
      "        \"uClose\": 244.78,\n",
      "        \"uHigh\": 252.84,\n",
      "        \"uLow\": 242.61,\n",
      "        \"uOpen\": 247.39,\n",
      "        \"uVolume\": 67964255,\n",
      "        \"volume\": 67964255\n",
      "    },\n",
      "    {\n",
      "        \"change\": -15.54,\n",
      "        \"changeOverTime\": -0.232824,\n",
      "        \"changePercent\": -6.3486,\n",
      "        \"close\": 229.24,\n",
      "        \"date\": \"2020-03-20\",\n",
      "        \"high\": 251.83,\n",
      "        \"label\": \"Mar 20\",\n",
      "        \"low\": 228,\n",
      "        \"open\": 247.18,\n",
      "        \"uClose\": 229.24,\n",
      "        \"uHigh\": 251.83,\n",
      "        \"uLow\": 228,\n",
      "        \"uOpen\": 247.18,\n",
      "        \"uVolume\": 100423346,\n",
      "        \"volume\": 100423346\n",
      "    },\n",
      "    {\n",
      "        \"change\": -4.87,\n",
      "        \"changeOverTime\": -0.249122,\n",
      "        \"changePercent\": -2.1244,\n",
      "        \"close\": 224.37,\n",
      "        \"date\": \"2020-03-23\",\n",
      "        \"high\": 228.5,\n",
      "        \"label\": \"Mar 23\",\n",
      "        \"low\": 212.61,\n",
      "        \"open\": 228.08,\n",
      "        \"uClose\": 224.37,\n",
      "        \"uHigh\": 228.5,\n",
      "        \"uLow\": 212.61,\n",
      "        \"uOpen\": 228.08,\n",
      "        \"uVolume\": 84188208,\n",
      "        \"volume\": 84188208\n",
      "    },\n",
      "    {\n",
      "        \"change\": 22.51,\n",
      "        \"changeOverTime\": -0.173789,\n",
      "        \"changePercent\": 10.0325,\n",
      "        \"close\": 246.88,\n",
      "        \"date\": \"2020-03-24\",\n",
      "        \"high\": 247.69,\n",
      "        \"label\": \"Mar 24\",\n",
      "        \"low\": 234.3,\n",
      "        \"open\": 236.36,\n",
      "        \"uClose\": 246.88,\n",
      "        \"uHigh\": 247.69,\n",
      "        \"uLow\": 234.3,\n",
      "        \"uOpen\": 236.36,\n",
      "        \"uVolume\": 71882773,\n",
      "        \"volume\": 71882773\n",
      "    },\n",
      "    {\n",
      "        \"change\": -1.36,\n",
      "        \"changeOverTime\": -0.178341,\n",
      "        \"changePercent\": -0.5509,\n",
      "        \"close\": 245.52,\n",
      "        \"date\": \"2020-03-25\",\n",
      "        \"high\": 258.25,\n",
      "        \"label\": \"Mar 25\",\n",
      "        \"low\": 244.3,\n",
      "        \"open\": 250.75,\n",
      "        \"uClose\": 245.52,\n",
      "        \"uHigh\": 258.25,\n",
      "        \"uLow\": 244.3,\n",
      "        \"uOpen\": 250.75,\n",
      "        \"uVolume\": 75900510,\n",
      "        \"volume\": 75900510\n",
      "    },\n",
      "    {\n",
      "        \"change\": 12.92,\n",
      "        \"changeOverTime\": -0.135103,\n",
      "        \"changePercent\": 5.2623,\n",
      "        \"close\": 258.44,\n",
      "        \"date\": \"2020-03-26\",\n",
      "        \"high\": 258.68,\n",
      "        \"label\": \"Mar 26\",\n",
      "        \"low\": 246.36,\n",
      "        \"open\": 246.52,\n",
      "        \"uClose\": 258.44,\n",
      "        \"uHigh\": 258.68,\n",
      "        \"uLow\": 246.36,\n",
      "        \"uOpen\": 246.52,\n",
      "        \"uVolume\": 63140169,\n",
      "        \"volume\": 63140169\n",
      "    },\n",
      "    {\n",
      "        \"change\": -10.7,\n",
      "        \"changeOverTime\": -0.170911,\n",
      "        \"changePercent\": -4.1402,\n",
      "        \"close\": 247.74,\n",
      "        \"date\": \"2020-03-27\",\n",
      "        \"high\": 255.87,\n",
      "        \"label\": \"Mar 27\",\n",
      "        \"low\": 247.05,\n",
      "        \"open\": 252.75,\n",
      "        \"uClose\": 247.74,\n",
      "        \"uHigh\": 255.87,\n",
      "        \"uLow\": 247.05,\n",
      "        \"uOpen\": 252.75,\n",
      "        \"uVolume\": 51054153,\n",
      "        \"volume\": 51054153\n",
      "    },\n",
      "    {\n",
      "        \"change\": 7.07,\n",
      "        \"changeOverTime\": -0.147251,\n",
      "        \"changePercent\": 2.8538,\n",
      "        \"close\": 254.81,\n",
      "        \"date\": \"2020-03-30\",\n",
      "        \"high\": 255.52,\n",
      "        \"label\": \"Mar 30\",\n",
      "        \"low\": 249.4,\n",
      "        \"open\": 250.74,\n",
      "        \"uClose\": 254.81,\n",
      "        \"uHigh\": 255.52,\n",
      "        \"uLow\": 249.4,\n",
      "        \"uOpen\": 250.74,\n",
      "        \"uVolume\": 41994110,\n",
      "        \"volume\": 41994110\n",
      "    },\n",
      "    {\n",
      "        \"change\": -0.52,\n",
      "        \"changeOverTime\": -0.148991,\n",
      "        \"changePercent\": -0.2041,\n",
      "        \"close\": 254.29,\n",
      "        \"date\": \"2020-03-31\",\n",
      "        \"high\": 262.49,\n",
      "        \"label\": \"Mar 31\",\n",
      "        \"low\": 252,\n",
      "        \"open\": 255.6,\n",
      "        \"uClose\": 254.29,\n",
      "        \"uHigh\": 262.49,\n",
      "        \"uLow\": 252,\n",
      "        \"uOpen\": 255.6,\n",
      "        \"uVolume\": 49250501,\n",
      "        \"volume\": 49250501\n",
      "    },\n",
      "    {\n",
      "        \"change\": -13.379999999999995,\n",
      "        \"changeOverTime\": 0,\n",
      "        \"changePercent\": -5.55,\n",
      "        \"close\": 240.91,\n",
      "        \"date\": \"2020-04-01\",\n",
      "        \"high\": 248.72,\n",
      "        \"label\": \"Apr 1\",\n",
      "        \"low\": 239.13,\n",
      "        \"open\": 246.5,\n",
      "        \"uClose\": 240.91,\n",
      "        \"uHigh\": 248.72,\n",
      "        \"uLow\": 239.13,\n",
      "        \"uOpen\": 246.5,\n",
      "        \"uVolume\": 44054638,\n",
      "        \"volume\": 44054638\n",
      "    },\n",
      "    {\n",
      "        \"change\": 4.02000000000001,\n",
      "        \"changeOverTime\": 0,\n",
      "        \"changePercent\": 1.64,\n",
      "        \"close\": 244.93,\n",
      "        \"date\": \"2020-04-02\",\n",
      "        \"high\": 245.15,\n",
      "        \"label\": \"Apr 2\",\n",
      "        \"low\": 236.9,\n",
      "        \"open\": 240.34,\n",
      "        \"uClose\": 244.93,\n",
      "        \"uHigh\": 245.15,\n",
      "        \"uLow\": 236.9,\n",
      "        \"uOpen\": 240.34,\n",
      "        \"uVolume\": 41483493,\n",
      "        \"volume\": 41483493\n",
      "    },\n",
      "    {\n",
      "        \"change\": -3.5200000000000102,\n",
      "        \"changeOverTime\": 0,\n",
      "        \"changePercent\": -1.46,\n",
      "        \"close\": 241.41,\n",
      "        \"date\": \"2020-04-03\",\n",
      "        \"high\": 245.7,\n",
      "        \"label\": \"Apr 3\",\n",
      "        \"low\": 238.97,\n",
      "        \"open\": 242.8,\n",
      "        \"uClose\": 241.41,\n",
      "        \"uHigh\": 245.7,\n",
      "        \"uLow\": 238.97,\n",
      "        \"uOpen\": 242.8,\n",
      "        \"uVolume\": 32470017,\n",
      "        \"volume\": 32470017\n",
      "    },\n",
      "    {\n",
      "        \"change\": 21.06000000000003,\n",
      "        \"changeOverTime\": 0,\n",
      "        \"changePercent\": 8.02,\n",
      "        \"close\": 262.47,\n",
      "        \"date\": \"2020-04-06\",\n",
      "        \"high\": 263.11,\n",
      "        \"label\": \"Apr 6\",\n",
      "        \"low\": 249.38,\n",
      "        \"open\": 250.9,\n",
      "        \"uClose\": 262.47,\n",
      "        \"uHigh\": 263.11,\n",
      "        \"uLow\": 249.38,\n",
      "        \"uOpen\": 250.9,\n",
      "        \"uVolume\": 50455071,\n",
      "        \"volume\": 50455071\n",
      "    },\n",
      "    {\n",
      "        \"change\": -3.0400000000000205,\n",
      "        \"changeOverTime\": 0,\n",
      "        \"changePercent\": -1.17,\n",
      "        \"close\": 259.43,\n",
      "        \"date\": \"2020-04-07\",\n",
      "        \"high\": 271.7,\n",
      "        \"label\": \"Apr 7\",\n",
      "        \"low\": 259,\n",
      "        \"open\": 270.8,\n",
      "        \"uClose\": 259.43,\n",
      "        \"uHigh\": 271.7,\n",
      "        \"uLow\": 259,\n",
      "        \"uOpen\": 270.8,\n",
      "        \"uVolume\": 50721831,\n",
      "        \"volume\": 50721831\n",
      "    },\n",
      "    {\n",
      "        \"change\": 6.639999999999986,\n",
      "        \"changeOverTime\": 0,\n",
      "        \"changePercent\": 2.5,\n",
      "        \"close\": 266.07,\n",
      "        \"date\": \"2020-04-08\",\n",
      "        \"high\": 267.37,\n",
      "        \"label\": \"Apr 8\",\n",
      "        \"low\": 261.23,\n",
      "        \"open\": 262.74,\n",
      "        \"uClose\": 266.07,\n",
      "        \"uHigh\": 267.37,\n",
      "        \"uLow\": 261.23,\n",
      "        \"uOpen\": 262.74,\n",
      "        \"uVolume\": 42223821,\n",
      "        \"volume\": 42223821\n",
      "    },\n",
      "    {\n",
      "        \"change\": 1.920000000000016,\n",
      "        \"changeOverTime\": 0,\n",
      "        \"changePercent\": 0.72,\n",
      "        \"close\": 267.99,\n",
      "        \"date\": \"2020-04-09\",\n",
      "        \"high\": 270.07,\n",
      "        \"label\": \"Apr 9\",\n",
      "        \"low\": 264.7,\n",
      "        \"open\": 268.7,\n",
      "        \"uClose\": 267.99,\n",
      "        \"uHigh\": 270.07,\n",
      "        \"uLow\": 264.7,\n",
      "        \"uOpen\": 268.7,\n",
      "        \"uVolume\": 40529123,\n",
      "        \"volume\": 40529123\n",
      "    },\n",
      "    {\n",
      "        \"change\": 5.259999999999991,\n",
      "        \"changeOverTime\": 0,\n",
      "        \"changePercent\": 1.92,\n",
      "        \"close\": 273.25,\n",
      "        \"date\": \"2020-04-13\",\n",
      "        \"high\": 273.7,\n",
      "        \"label\": \"Apr 13\",\n",
      "        \"low\": 265.83,\n",
      "        \"open\": 268.31,\n",
      "        \"uClose\": 273.25,\n",
      "        \"uHigh\": 273.7,\n",
      "        \"uLow\": 265.83,\n",
      "        \"uOpen\": 268.31,\n",
      "        \"uVolume\": 32755731,\n",
      "        \"volume\": 32755731\n",
      "    },\n",
      "    {\n",
      "        \"change\": 13.800000000000011,\n",
      "        \"changeOverTime\": 0,\n",
      "        \"changePercent\": 4.81,\n",
      "        \"close\": 287.05,\n",
      "        \"date\": \"2020-04-14\",\n",
      "        \"high\": 288.25,\n",
      "        \"label\": \"Apr 14\",\n",
      "        \"low\": 278.05,\n",
      "        \"open\": 280,\n",
      "        \"uClose\": 287.05,\n",
      "        \"uHigh\": 288.25,\n",
      "        \"uLow\": 278.05,\n",
      "        \"uOpen\": 280,\n",
      "        \"uVolume\": 48748672,\n",
      "        \"volume\": 48748672\n",
      "    },\n",
      "    {\n",
      "        \"change\": -2.6200000000000045,\n",
      "        \"changeOverTime\": 0,\n",
      "        \"changePercent\": -0.92,\n",
      "        \"close\": 284.43,\n",
      "        \"date\": \"2020-04-15\",\n",
      "        \"high\": 286.33,\n",
      "        \"label\": \"Apr 15\",\n",
      "        \"low\": 280.63,\n",
      "        \"open\": 282.4,\n",
      "        \"uClose\": 284.43,\n",
      "        \"uHigh\": 286.33,\n",
      "        \"uLow\": 280.63,\n",
      "        \"uOpen\": 282.4,\n",
      "        \"uVolume\": 32788641,\n",
      "        \"volume\": 32788641\n",
      "    }\n",
      "]\n"
     ]
    }
   ],
   "source": [
    "import json\n",
    "\n",
    "def jprint(obj):\n",
    "    # create a formatted string of the Python JSON object\n",
    "    text = json.dumps(obj, sort_keys=True, indent=4)\n",
    "    print(text)\n",
    "\n",
    "jprint(response.json())"
   ]
  },
  {
   "cell_type": "code",
   "execution_count": 156,
   "metadata": {},
   "outputs": [
    {
     "name": "stdout",
     "output_type": "stream",
     "text": [
      "298.81 2020-03-02\n",
      "289.32 2020-03-03\n",
      "302.74 2020-03-04\n",
      "292.92 2020-03-05\n",
      "289.03 2020-03-06\n",
      "266.17 2020-03-09\n",
      "285.34 2020-03-10\n",
      "275.43 2020-03-11\n",
      "248.23 2020-03-12\n",
      "277.97 2020-03-13\n",
      "242.21 2020-03-16\n",
      "252.86 2020-03-17\n",
      "246.67 2020-03-18\n",
      "244.78 2020-03-19\n",
      "229.24 2020-03-20\n",
      "224.37 2020-03-23\n",
      "246.88 2020-03-24\n",
      "245.52 2020-03-25\n",
      "258.44 2020-03-26\n",
      "247.74 2020-03-27\n",
      "254.81 2020-03-30\n",
      "254.29 2020-03-31\n",
      "240.91 2020-04-01\n",
      "244.93 2020-04-02\n",
      "241.41 2020-04-03\n",
      "262.47 2020-04-06\n",
      "259.43 2020-04-07\n",
      "266.07 2020-04-08\n",
      "267.99 2020-04-09\n",
      "273.25 2020-04-13\n",
      "287.05 2020-04-14\n",
      "284.43 2020-04-15\n"
     ]
    },
    {
     "data": {
      "application/vnd.plotly.v1+json": {
       "config": {
        "plotlyServerURL": "https://plot.ly"
       },
       "data": [
        {
         "marker": {
          "color": "red",
          "size": 10
         },
         "name": "aapl",
         "type": "scatter",
         "x": [
          "2020-03-02",
          "2020-03-03",
          "2020-03-04",
          "2020-03-05",
          "2020-03-06",
          "2020-03-09",
          "2020-03-10",
          "2020-03-11",
          "2020-03-12",
          "2020-03-13",
          "2020-03-16",
          "2020-03-17",
          "2020-03-18",
          "2020-03-19",
          "2020-03-20",
          "2020-03-23",
          "2020-03-24",
          "2020-03-25",
          "2020-03-26",
          "2020-03-27",
          "2020-03-30",
          "2020-03-31",
          "2020-04-01",
          "2020-04-02",
          "2020-04-03",
          "2020-04-06",
          "2020-04-07",
          "2020-04-08",
          "2020-04-09",
          "2020-04-13",
          "2020-04-14",
          "2020-04-15"
         ],
         "y": [
          298.81,
          289.32,
          302.74,
          292.92,
          289.03,
          266.17,
          285.34,
          275.43,
          248.23,
          277.97,
          242.21,
          252.86,
          246.67,
          244.78,
          229.24,
          224.37,
          246.88,
          245.52,
          258.44,
          247.74,
          254.81,
          254.29,
          240.91,
          244.93,
          241.41,
          262.47,
          259.43,
          266.07,
          267.99,
          273.25,
          287.05,
          284.43
         ]
        }
       ],
       "layout": {
        "showlegend": true,
        "template": {
         "data": {
          "bar": [
           {
            "error_x": {
             "color": "#2a3f5f"
            },
            "error_y": {
             "color": "#2a3f5f"
            },
            "marker": {
             "line": {
              "color": "#E5ECF6",
              "width": 0.5
             }
            },
            "type": "bar"
           }
          ],
          "barpolar": [
           {
            "marker": {
             "line": {
              "color": "#E5ECF6",
              "width": 0.5
             }
            },
            "type": "barpolar"
           }
          ],
          "carpet": [
           {
            "aaxis": {
             "endlinecolor": "#2a3f5f",
             "gridcolor": "white",
             "linecolor": "white",
             "minorgridcolor": "white",
             "startlinecolor": "#2a3f5f"
            },
            "baxis": {
             "endlinecolor": "#2a3f5f",
             "gridcolor": "white",
             "linecolor": "white",
             "minorgridcolor": "white",
             "startlinecolor": "#2a3f5f"
            },
            "type": "carpet"
           }
          ],
          "choropleth": [
           {
            "colorbar": {
             "outlinewidth": 0,
             "ticks": ""
            },
            "type": "choropleth"
           }
          ],
          "contour": [
           {
            "colorbar": {
             "outlinewidth": 0,
             "ticks": ""
            },
            "colorscale": [
             [
              0,
              "#0d0887"
             ],
             [
              0.1111111111111111,
              "#46039f"
             ],
             [
              0.2222222222222222,
              "#7201a8"
             ],
             [
              0.3333333333333333,
              "#9c179e"
             ],
             [
              0.4444444444444444,
              "#bd3786"
             ],
             [
              0.5555555555555556,
              "#d8576b"
             ],
             [
              0.6666666666666666,
              "#ed7953"
             ],
             [
              0.7777777777777778,
              "#fb9f3a"
             ],
             [
              0.8888888888888888,
              "#fdca26"
             ],
             [
              1,
              "#f0f921"
             ]
            ],
            "type": "contour"
           }
          ],
          "contourcarpet": [
           {
            "colorbar": {
             "outlinewidth": 0,
             "ticks": ""
            },
            "type": "contourcarpet"
           }
          ],
          "heatmap": [
           {
            "colorbar": {
             "outlinewidth": 0,
             "ticks": ""
            },
            "colorscale": [
             [
              0,
              "#0d0887"
             ],
             [
              0.1111111111111111,
              "#46039f"
             ],
             [
              0.2222222222222222,
              "#7201a8"
             ],
             [
              0.3333333333333333,
              "#9c179e"
             ],
             [
              0.4444444444444444,
              "#bd3786"
             ],
             [
              0.5555555555555556,
              "#d8576b"
             ],
             [
              0.6666666666666666,
              "#ed7953"
             ],
             [
              0.7777777777777778,
              "#fb9f3a"
             ],
             [
              0.8888888888888888,
              "#fdca26"
             ],
             [
              1,
              "#f0f921"
             ]
            ],
            "type": "heatmap"
           }
          ],
          "heatmapgl": [
           {
            "colorbar": {
             "outlinewidth": 0,
             "ticks": ""
            },
            "colorscale": [
             [
              0,
              "#0d0887"
             ],
             [
              0.1111111111111111,
              "#46039f"
             ],
             [
              0.2222222222222222,
              "#7201a8"
             ],
             [
              0.3333333333333333,
              "#9c179e"
             ],
             [
              0.4444444444444444,
              "#bd3786"
             ],
             [
              0.5555555555555556,
              "#d8576b"
             ],
             [
              0.6666666666666666,
              "#ed7953"
             ],
             [
              0.7777777777777778,
              "#fb9f3a"
             ],
             [
              0.8888888888888888,
              "#fdca26"
             ],
             [
              1,
              "#f0f921"
             ]
            ],
            "type": "heatmapgl"
           }
          ],
          "histogram": [
           {
            "marker": {
             "colorbar": {
              "outlinewidth": 0,
              "ticks": ""
             }
            },
            "type": "histogram"
           }
          ],
          "histogram2d": [
           {
            "colorbar": {
             "outlinewidth": 0,
             "ticks": ""
            },
            "colorscale": [
             [
              0,
              "#0d0887"
             ],
             [
              0.1111111111111111,
              "#46039f"
             ],
             [
              0.2222222222222222,
              "#7201a8"
             ],
             [
              0.3333333333333333,
              "#9c179e"
             ],
             [
              0.4444444444444444,
              "#bd3786"
             ],
             [
              0.5555555555555556,
              "#d8576b"
             ],
             [
              0.6666666666666666,
              "#ed7953"
             ],
             [
              0.7777777777777778,
              "#fb9f3a"
             ],
             [
              0.8888888888888888,
              "#fdca26"
             ],
             [
              1,
              "#f0f921"
             ]
            ],
            "type": "histogram2d"
           }
          ],
          "histogram2dcontour": [
           {
            "colorbar": {
             "outlinewidth": 0,
             "ticks": ""
            },
            "colorscale": [
             [
              0,
              "#0d0887"
             ],
             [
              0.1111111111111111,
              "#46039f"
             ],
             [
              0.2222222222222222,
              "#7201a8"
             ],
             [
              0.3333333333333333,
              "#9c179e"
             ],
             [
              0.4444444444444444,
              "#bd3786"
             ],
             [
              0.5555555555555556,
              "#d8576b"
             ],
             [
              0.6666666666666666,
              "#ed7953"
             ],
             [
              0.7777777777777778,
              "#fb9f3a"
             ],
             [
              0.8888888888888888,
              "#fdca26"
             ],
             [
              1,
              "#f0f921"
             ]
            ],
            "type": "histogram2dcontour"
           }
          ],
          "mesh3d": [
           {
            "colorbar": {
             "outlinewidth": 0,
             "ticks": ""
            },
            "type": "mesh3d"
           }
          ],
          "parcoords": [
           {
            "line": {
             "colorbar": {
              "outlinewidth": 0,
              "ticks": ""
             }
            },
            "type": "parcoords"
           }
          ],
          "pie": [
           {
            "automargin": true,
            "type": "pie"
           }
          ],
          "scatter": [
           {
            "marker": {
             "colorbar": {
              "outlinewidth": 0,
              "ticks": ""
             }
            },
            "type": "scatter"
           }
          ],
          "scatter3d": [
           {
            "line": {
             "colorbar": {
              "outlinewidth": 0,
              "ticks": ""
             }
            },
            "marker": {
             "colorbar": {
              "outlinewidth": 0,
              "ticks": ""
             }
            },
            "type": "scatter3d"
           }
          ],
          "scattercarpet": [
           {
            "marker": {
             "colorbar": {
              "outlinewidth": 0,
              "ticks": ""
             }
            },
            "type": "scattercarpet"
           }
          ],
          "scattergeo": [
           {
            "marker": {
             "colorbar": {
              "outlinewidth": 0,
              "ticks": ""
             }
            },
            "type": "scattergeo"
           }
          ],
          "scattergl": [
           {
            "marker": {
             "colorbar": {
              "outlinewidth": 0,
              "ticks": ""
             }
            },
            "type": "scattergl"
           }
          ],
          "scattermapbox": [
           {
            "marker": {
             "colorbar": {
              "outlinewidth": 0,
              "ticks": ""
             }
            },
            "type": "scattermapbox"
           }
          ],
          "scatterpolar": [
           {
            "marker": {
             "colorbar": {
              "outlinewidth": 0,
              "ticks": ""
             }
            },
            "type": "scatterpolar"
           }
          ],
          "scatterpolargl": [
           {
            "marker": {
             "colorbar": {
              "outlinewidth": 0,
              "ticks": ""
             }
            },
            "type": "scatterpolargl"
           }
          ],
          "scatterternary": [
           {
            "marker": {
             "colorbar": {
              "outlinewidth": 0,
              "ticks": ""
             }
            },
            "type": "scatterternary"
           }
          ],
          "surface": [
           {
            "colorbar": {
             "outlinewidth": 0,
             "ticks": ""
            },
            "colorscale": [
             [
              0,
              "#0d0887"
             ],
             [
              0.1111111111111111,
              "#46039f"
             ],
             [
              0.2222222222222222,
              "#7201a8"
             ],
             [
              0.3333333333333333,
              "#9c179e"
             ],
             [
              0.4444444444444444,
              "#bd3786"
             ],
             [
              0.5555555555555556,
              "#d8576b"
             ],
             [
              0.6666666666666666,
              "#ed7953"
             ],
             [
              0.7777777777777778,
              "#fb9f3a"
             ],
             [
              0.8888888888888888,
              "#fdca26"
             ],
             [
              1,
              "#f0f921"
             ]
            ],
            "type": "surface"
           }
          ],
          "table": [
           {
            "cells": {
             "fill": {
              "color": "#EBF0F8"
             },
             "line": {
              "color": "white"
             }
            },
            "header": {
             "fill": {
              "color": "#C8D4E3"
             },
             "line": {
              "color": "white"
             }
            },
            "type": "table"
           }
          ]
         },
         "layout": {
          "annotationdefaults": {
           "arrowcolor": "#2a3f5f",
           "arrowhead": 0,
           "arrowwidth": 1
          },
          "coloraxis": {
           "colorbar": {
            "outlinewidth": 0,
            "ticks": ""
           }
          },
          "colorscale": {
           "diverging": [
            [
             0,
             "#8e0152"
            ],
            [
             0.1,
             "#c51b7d"
            ],
            [
             0.2,
             "#de77ae"
            ],
            [
             0.3,
             "#f1b6da"
            ],
            [
             0.4,
             "#fde0ef"
            ],
            [
             0.5,
             "#f7f7f7"
            ],
            [
             0.6,
             "#e6f5d0"
            ],
            [
             0.7,
             "#b8e186"
            ],
            [
             0.8,
             "#7fbc41"
            ],
            [
             0.9,
             "#4d9221"
            ],
            [
             1,
             "#276419"
            ]
           ],
           "sequential": [
            [
             0,
             "#0d0887"
            ],
            [
             0.1111111111111111,
             "#46039f"
            ],
            [
             0.2222222222222222,
             "#7201a8"
            ],
            [
             0.3333333333333333,
             "#9c179e"
            ],
            [
             0.4444444444444444,
             "#bd3786"
            ],
            [
             0.5555555555555556,
             "#d8576b"
            ],
            [
             0.6666666666666666,
             "#ed7953"
            ],
            [
             0.7777777777777778,
             "#fb9f3a"
            ],
            [
             0.8888888888888888,
             "#fdca26"
            ],
            [
             1,
             "#f0f921"
            ]
           ],
           "sequentialminus": [
            [
             0,
             "#0d0887"
            ],
            [
             0.1111111111111111,
             "#46039f"
            ],
            [
             0.2222222222222222,
             "#7201a8"
            ],
            [
             0.3333333333333333,
             "#9c179e"
            ],
            [
             0.4444444444444444,
             "#bd3786"
            ],
            [
             0.5555555555555556,
             "#d8576b"
            ],
            [
             0.6666666666666666,
             "#ed7953"
            ],
            [
             0.7777777777777778,
             "#fb9f3a"
            ],
            [
             0.8888888888888888,
             "#fdca26"
            ],
            [
             1,
             "#f0f921"
            ]
           ]
          },
          "colorway": [
           "#636efa",
           "#EF553B",
           "#00cc96",
           "#ab63fa",
           "#FFA15A",
           "#19d3f3",
           "#FF6692",
           "#B6E880",
           "#FF97FF",
           "#FECB52"
          ],
          "font": {
           "color": "#2a3f5f"
          },
          "geo": {
           "bgcolor": "white",
           "lakecolor": "white",
           "landcolor": "#E5ECF6",
           "showlakes": true,
           "showland": true,
           "subunitcolor": "white"
          },
          "hoverlabel": {
           "align": "left"
          },
          "hovermode": "closest",
          "mapbox": {
           "style": "light"
          },
          "paper_bgcolor": "white",
          "plot_bgcolor": "#E5ECF6",
          "polar": {
           "angularaxis": {
            "gridcolor": "white",
            "linecolor": "white",
            "ticks": ""
           },
           "bgcolor": "#E5ECF6",
           "radialaxis": {
            "gridcolor": "white",
            "linecolor": "white",
            "ticks": ""
           }
          },
          "scene": {
           "xaxis": {
            "backgroundcolor": "#E5ECF6",
            "gridcolor": "white",
            "gridwidth": 2,
            "linecolor": "white",
            "showbackground": true,
            "ticks": "",
            "zerolinecolor": "white"
           },
           "yaxis": {
            "backgroundcolor": "#E5ECF6",
            "gridcolor": "white",
            "gridwidth": 2,
            "linecolor": "white",
            "showbackground": true,
            "ticks": "",
            "zerolinecolor": "white"
           },
           "zaxis": {
            "backgroundcolor": "#E5ECF6",
            "gridcolor": "white",
            "gridwidth": 2,
            "linecolor": "white",
            "showbackground": true,
            "ticks": "",
            "zerolinecolor": "white"
           }
          },
          "shapedefaults": {
           "line": {
            "color": "#2a3f5f"
           }
          },
          "ternary": {
           "aaxis": {
            "gridcolor": "white",
            "linecolor": "white",
            "ticks": ""
           },
           "baxis": {
            "gridcolor": "white",
            "linecolor": "white",
            "ticks": ""
           },
           "bgcolor": "#E5ECF6",
           "caxis": {
            "gridcolor": "white",
            "linecolor": "white",
            "ticks": ""
           }
          },
          "title": {
           "x": 0.05
          },
          "xaxis": {
           "automargin": true,
           "gridcolor": "white",
           "linecolor": "white",
           "ticks": "",
           "title": {
            "standoff": 15
           },
           "zerolinecolor": "white",
           "zerolinewidth": 2
          },
          "yaxis": {
           "automargin": true,
           "gridcolor": "white",
           "linecolor": "white",
           "ticks": "",
           "title": {
            "standoff": 15
           },
           "zerolinecolor": "white",
           "zerolinewidth": 2
          }
         }
        },
        "title": {
         "text": "share price"
        },
        "xaxis": {
         "constrain": "domain",
         "range": [
          "2020-03-02",
          "2020-04-15"
         ]
        }
       }
      },
      "text/html": [
       "<div>\n",
       "        \n",
       "        \n",
       "            <div id=\"ad28ac64-81c5-4b05-885b-bf673b23e31a\" class=\"plotly-graph-div\" style=\"height:525px; width:100%;\"></div>\n",
       "            <script type=\"text/javascript\">\n",
       "                require([\"plotly\"], function(Plotly) {\n",
       "                    window.PLOTLYENV=window.PLOTLYENV || {};\n",
       "                    \n",
       "                if (document.getElementById(\"ad28ac64-81c5-4b05-885b-bf673b23e31a\")) {\n",
       "                    Plotly.newPlot(\n",
       "                        'ad28ac64-81c5-4b05-885b-bf673b23e31a',\n",
       "                        [{\"marker\": {\"color\": \"red\", \"size\": 10}, \"name\": \"aapl\", \"type\": \"scatter\", \"x\": [\"2020-03-02\", \"2020-03-03\", \"2020-03-04\", \"2020-03-05\", \"2020-03-06\", \"2020-03-09\", \"2020-03-10\", \"2020-03-11\", \"2020-03-12\", \"2020-03-13\", \"2020-03-16\", \"2020-03-17\", \"2020-03-18\", \"2020-03-19\", \"2020-03-20\", \"2020-03-23\", \"2020-03-24\", \"2020-03-25\", \"2020-03-26\", \"2020-03-27\", \"2020-03-30\", \"2020-03-31\", \"2020-04-01\", \"2020-04-02\", \"2020-04-03\", \"2020-04-06\", \"2020-04-07\", \"2020-04-08\", \"2020-04-09\", \"2020-04-13\", \"2020-04-14\", \"2020-04-15\"], \"y\": [298.81, 289.32, 302.74, 292.92, 289.03, 266.17, 285.34, 275.43, 248.23, 277.97, 242.21, 252.86, 246.67, 244.78, 229.24, 224.37, 246.88, 245.52, 258.44, 247.74, 254.81, 254.29, 240.91, 244.93, 241.41, 262.47, 259.43, 266.07, 267.99, 273.25, 287.05, 284.43]}],\n",
       "                        {\"showlegend\": true, \"template\": {\"data\": {\"bar\": [{\"error_x\": {\"color\": \"#2a3f5f\"}, \"error_y\": {\"color\": \"#2a3f5f\"}, \"marker\": {\"line\": {\"color\": \"#E5ECF6\", \"width\": 0.5}}, \"type\": \"bar\"}], \"barpolar\": [{\"marker\": {\"line\": {\"color\": \"#E5ECF6\", \"width\": 0.5}}, \"type\": \"barpolar\"}], \"carpet\": [{\"aaxis\": {\"endlinecolor\": \"#2a3f5f\", \"gridcolor\": \"white\", \"linecolor\": \"white\", \"minorgridcolor\": \"white\", \"startlinecolor\": \"#2a3f5f\"}, \"baxis\": {\"endlinecolor\": \"#2a3f5f\", \"gridcolor\": \"white\", \"linecolor\": \"white\", \"minorgridcolor\": \"white\", \"startlinecolor\": \"#2a3f5f\"}, \"type\": \"carpet\"}], \"choropleth\": [{\"colorbar\": {\"outlinewidth\": 0, \"ticks\": \"\"}, \"type\": \"choropleth\"}], \"contour\": [{\"colorbar\": {\"outlinewidth\": 0, \"ticks\": \"\"}, \"colorscale\": [[0.0, \"#0d0887\"], [0.1111111111111111, \"#46039f\"], [0.2222222222222222, \"#7201a8\"], [0.3333333333333333, \"#9c179e\"], [0.4444444444444444, \"#bd3786\"], [0.5555555555555556, \"#d8576b\"], [0.6666666666666666, \"#ed7953\"], [0.7777777777777778, \"#fb9f3a\"], [0.8888888888888888, \"#fdca26\"], [1.0, \"#f0f921\"]], \"type\": \"contour\"}], \"contourcarpet\": [{\"colorbar\": {\"outlinewidth\": 0, \"ticks\": \"\"}, \"type\": \"contourcarpet\"}], \"heatmap\": [{\"colorbar\": {\"outlinewidth\": 0, \"ticks\": \"\"}, \"colorscale\": [[0.0, \"#0d0887\"], [0.1111111111111111, \"#46039f\"], [0.2222222222222222, \"#7201a8\"], [0.3333333333333333, \"#9c179e\"], [0.4444444444444444, \"#bd3786\"], [0.5555555555555556, \"#d8576b\"], [0.6666666666666666, \"#ed7953\"], [0.7777777777777778, \"#fb9f3a\"], [0.8888888888888888, \"#fdca26\"], [1.0, \"#f0f921\"]], \"type\": \"heatmap\"}], \"heatmapgl\": [{\"colorbar\": {\"outlinewidth\": 0, \"ticks\": \"\"}, \"colorscale\": [[0.0, \"#0d0887\"], [0.1111111111111111, \"#46039f\"], [0.2222222222222222, \"#7201a8\"], [0.3333333333333333, \"#9c179e\"], [0.4444444444444444, \"#bd3786\"], [0.5555555555555556, \"#d8576b\"], [0.6666666666666666, \"#ed7953\"], [0.7777777777777778, \"#fb9f3a\"], [0.8888888888888888, \"#fdca26\"], [1.0, \"#f0f921\"]], \"type\": \"heatmapgl\"}], \"histogram\": [{\"marker\": {\"colorbar\": {\"outlinewidth\": 0, \"ticks\": \"\"}}, \"type\": \"histogram\"}], \"histogram2d\": [{\"colorbar\": {\"outlinewidth\": 0, \"ticks\": \"\"}, \"colorscale\": [[0.0, \"#0d0887\"], [0.1111111111111111, \"#46039f\"], [0.2222222222222222, \"#7201a8\"], [0.3333333333333333, \"#9c179e\"], [0.4444444444444444, \"#bd3786\"], [0.5555555555555556, \"#d8576b\"], [0.6666666666666666, \"#ed7953\"], [0.7777777777777778, \"#fb9f3a\"], [0.8888888888888888, \"#fdca26\"], [1.0, \"#f0f921\"]], \"type\": \"histogram2d\"}], \"histogram2dcontour\": [{\"colorbar\": {\"outlinewidth\": 0, \"ticks\": \"\"}, \"colorscale\": [[0.0, \"#0d0887\"], [0.1111111111111111, \"#46039f\"], [0.2222222222222222, \"#7201a8\"], [0.3333333333333333, \"#9c179e\"], [0.4444444444444444, \"#bd3786\"], [0.5555555555555556, \"#d8576b\"], [0.6666666666666666, \"#ed7953\"], [0.7777777777777778, \"#fb9f3a\"], [0.8888888888888888, \"#fdca26\"], [1.0, \"#f0f921\"]], \"type\": \"histogram2dcontour\"}], \"mesh3d\": [{\"colorbar\": {\"outlinewidth\": 0, \"ticks\": \"\"}, \"type\": \"mesh3d\"}], \"parcoords\": [{\"line\": {\"colorbar\": {\"outlinewidth\": 0, \"ticks\": \"\"}}, \"type\": \"parcoords\"}], \"pie\": [{\"automargin\": true, \"type\": \"pie\"}], \"scatter\": [{\"marker\": {\"colorbar\": {\"outlinewidth\": 0, \"ticks\": \"\"}}, \"type\": \"scatter\"}], \"scatter3d\": [{\"line\": {\"colorbar\": {\"outlinewidth\": 0, \"ticks\": \"\"}}, \"marker\": {\"colorbar\": {\"outlinewidth\": 0, \"ticks\": \"\"}}, \"type\": \"scatter3d\"}], \"scattercarpet\": [{\"marker\": {\"colorbar\": {\"outlinewidth\": 0, \"ticks\": \"\"}}, \"type\": \"scattercarpet\"}], \"scattergeo\": [{\"marker\": {\"colorbar\": {\"outlinewidth\": 0, \"ticks\": \"\"}}, \"type\": \"scattergeo\"}], \"scattergl\": [{\"marker\": {\"colorbar\": {\"outlinewidth\": 0, \"ticks\": \"\"}}, \"type\": \"scattergl\"}], \"scattermapbox\": [{\"marker\": {\"colorbar\": {\"outlinewidth\": 0, \"ticks\": \"\"}}, \"type\": \"scattermapbox\"}], \"scatterpolar\": [{\"marker\": {\"colorbar\": {\"outlinewidth\": 0, \"ticks\": \"\"}}, \"type\": \"scatterpolar\"}], \"scatterpolargl\": [{\"marker\": {\"colorbar\": {\"outlinewidth\": 0, \"ticks\": \"\"}}, \"type\": \"scatterpolargl\"}], \"scatterternary\": [{\"marker\": {\"colorbar\": {\"outlinewidth\": 0, \"ticks\": \"\"}}, \"type\": \"scatterternary\"}], \"surface\": [{\"colorbar\": {\"outlinewidth\": 0, \"ticks\": \"\"}, \"colorscale\": [[0.0, \"#0d0887\"], [0.1111111111111111, \"#46039f\"], [0.2222222222222222, \"#7201a8\"], [0.3333333333333333, \"#9c179e\"], [0.4444444444444444, \"#bd3786\"], [0.5555555555555556, \"#d8576b\"], [0.6666666666666666, \"#ed7953\"], [0.7777777777777778, \"#fb9f3a\"], [0.8888888888888888, \"#fdca26\"], [1.0, \"#f0f921\"]], \"type\": \"surface\"}], \"table\": [{\"cells\": {\"fill\": {\"color\": \"#EBF0F8\"}, \"line\": {\"color\": \"white\"}}, \"header\": {\"fill\": {\"color\": \"#C8D4E3\"}, \"line\": {\"color\": \"white\"}}, \"type\": \"table\"}]}, \"layout\": {\"annotationdefaults\": {\"arrowcolor\": \"#2a3f5f\", \"arrowhead\": 0, \"arrowwidth\": 1}, \"coloraxis\": {\"colorbar\": {\"outlinewidth\": 0, \"ticks\": \"\"}}, \"colorscale\": {\"diverging\": [[0, \"#8e0152\"], [0.1, \"#c51b7d\"], [0.2, \"#de77ae\"], [0.3, \"#f1b6da\"], [0.4, \"#fde0ef\"], [0.5, \"#f7f7f7\"], [0.6, \"#e6f5d0\"], [0.7, \"#b8e186\"], [0.8, \"#7fbc41\"], [0.9, \"#4d9221\"], [1, \"#276419\"]], \"sequential\": [[0.0, \"#0d0887\"], [0.1111111111111111, \"#46039f\"], [0.2222222222222222, \"#7201a8\"], [0.3333333333333333, \"#9c179e\"], [0.4444444444444444, \"#bd3786\"], [0.5555555555555556, \"#d8576b\"], [0.6666666666666666, \"#ed7953\"], [0.7777777777777778, \"#fb9f3a\"], [0.8888888888888888, \"#fdca26\"], [1.0, \"#f0f921\"]], \"sequentialminus\": [[0.0, \"#0d0887\"], [0.1111111111111111, \"#46039f\"], [0.2222222222222222, \"#7201a8\"], [0.3333333333333333, \"#9c179e\"], [0.4444444444444444, \"#bd3786\"], [0.5555555555555556, \"#d8576b\"], [0.6666666666666666, \"#ed7953\"], [0.7777777777777778, \"#fb9f3a\"], [0.8888888888888888, \"#fdca26\"], [1.0, \"#f0f921\"]]}, \"colorway\": [\"#636efa\", \"#EF553B\", \"#00cc96\", \"#ab63fa\", \"#FFA15A\", \"#19d3f3\", \"#FF6692\", \"#B6E880\", \"#FF97FF\", \"#FECB52\"], \"font\": {\"color\": \"#2a3f5f\"}, \"geo\": {\"bgcolor\": \"white\", \"lakecolor\": \"white\", \"landcolor\": \"#E5ECF6\", \"showlakes\": true, \"showland\": true, \"subunitcolor\": \"white\"}, \"hoverlabel\": {\"align\": \"left\"}, \"hovermode\": \"closest\", \"mapbox\": {\"style\": \"light\"}, \"paper_bgcolor\": \"white\", \"plot_bgcolor\": \"#E5ECF6\", \"polar\": {\"angularaxis\": {\"gridcolor\": \"white\", \"linecolor\": \"white\", \"ticks\": \"\"}, \"bgcolor\": \"#E5ECF6\", \"radialaxis\": {\"gridcolor\": \"white\", \"linecolor\": \"white\", \"ticks\": \"\"}}, \"scene\": {\"xaxis\": {\"backgroundcolor\": \"#E5ECF6\", \"gridcolor\": \"white\", \"gridwidth\": 2, \"linecolor\": \"white\", \"showbackground\": true, \"ticks\": \"\", \"zerolinecolor\": \"white\"}, \"yaxis\": {\"backgroundcolor\": \"#E5ECF6\", \"gridcolor\": \"white\", \"gridwidth\": 2, \"linecolor\": \"white\", \"showbackground\": true, \"ticks\": \"\", \"zerolinecolor\": \"white\"}, \"zaxis\": {\"backgroundcolor\": \"#E5ECF6\", \"gridcolor\": \"white\", \"gridwidth\": 2, \"linecolor\": \"white\", \"showbackground\": true, \"ticks\": \"\", \"zerolinecolor\": \"white\"}}, \"shapedefaults\": {\"line\": {\"color\": \"#2a3f5f\"}}, \"ternary\": {\"aaxis\": {\"gridcolor\": \"white\", \"linecolor\": \"white\", \"ticks\": \"\"}, \"baxis\": {\"gridcolor\": \"white\", \"linecolor\": \"white\", \"ticks\": \"\"}, \"bgcolor\": \"#E5ECF6\", \"caxis\": {\"gridcolor\": \"white\", \"linecolor\": \"white\", \"ticks\": \"\"}}, \"title\": {\"x\": 0.05}, \"xaxis\": {\"automargin\": true, \"gridcolor\": \"white\", \"linecolor\": \"white\", \"ticks\": \"\", \"title\": {\"standoff\": 15}, \"zerolinecolor\": \"white\", \"zerolinewidth\": 2}, \"yaxis\": {\"automargin\": true, \"gridcolor\": \"white\", \"linecolor\": \"white\", \"ticks\": \"\", \"title\": {\"standoff\": 15}, \"zerolinecolor\": \"white\", \"zerolinewidth\": 2}}}, \"title\": {\"text\": \"share price\"}, \"xaxis\": {\"constrain\": \"domain\", \"range\": [\"2020-03-02\", \"2020-04-15\"]}},\n",
       "                        {\"responsive\": true}\n",
       "                    ).then(function(){\n",
       "                            \n",
       "var gd = document.getElementById('ad28ac64-81c5-4b05-885b-bf673b23e31a');\n",
       "var x = new MutationObserver(function (mutations, observer) {{\n",
       "        var display = window.getComputedStyle(gd).display;\n",
       "        if (!display || display === 'none') {{\n",
       "            console.log([gd, 'removed!']);\n",
       "            Plotly.purge(gd);\n",
       "            observer.disconnect();\n",
       "        }}\n",
       "}});\n",
       "\n",
       "// Listen for the removal of the full notebook cells\n",
       "var notebookContainer = gd.closest('#notebook-container');\n",
       "if (notebookContainer) {{\n",
       "    x.observe(notebookContainer, {childList: true});\n",
       "}}\n",
       "\n",
       "// Listen for the clearing of the current output cell\n",
       "var outputEl = gd.closest('.output');\n",
       "if (outputEl) {{\n",
       "    x.observe(outputEl, {childList: true});\n",
       "}}\n",
       "\n",
       "                        })\n",
       "                };\n",
       "                });\n",
       "            </script>\n",
       "        </div>"
      ]
     },
     "metadata": {},
     "output_type": "display_data"
    }
   ],
   "source": [
    "from datetime import datetime\n",
    "\n",
    "prices,times = [],[]\n",
    "\n",
    "for trade in response.json():\n",
    "    price,time = trade['close'],trade['date']\n",
    "    \n",
    "    prices.append(price)\n",
    "    times.append(time)\n",
    "    print(price,time)\n",
    "\n",
    "import plotly.graph_objects as go\n",
    "\n",
    "fig = go.Figure()\n",
    "fig.add_trace(go.Scatter(\n",
    "    x=times,\n",
    "    y=prices,\n",
    "    name = company_code, \n",
    "    marker = dict(\n",
    "        size = 10,\n",
    "        color = 'red'\n",
    "    )\n",
    "))\n",
    "\n",
    "fig.update_layout(\n",
    "    showlegend=True,\n",
    "    title = 'share price',\n",
    "    xaxis = dict(\n",
    "        range=(times[0], times[-1]),\n",
    "        constrain='domain'\n",
    "    )\n",
    ")\n",
    "\n",
    "\n",
    "fig.show()"
   ]
  },
  {
   "cell_type": "code",
   "execution_count": null,
   "metadata": {},
   "outputs": [],
   "source": []
  },
  {
   "cell_type": "code",
   "execution_count": null,
   "metadata": {},
   "outputs": [],
   "source": []
  }
 ],
 "metadata": {
  "kernelspec": {
   "display_name": "Python 3",
   "language": "python",
   "name": "python3"
  },
  "language_info": {
   "codemirror_mode": {
    "name": "ipython",
    "version": 3
   },
   "file_extension": ".py",
   "mimetype": "text/x-python",
   "name": "python",
   "nbconvert_exporter": "python",
   "pygments_lexer": "ipython3",
   "version": "3.7.3"
  }
 },
 "nbformat": 4,
 "nbformat_minor": 2
}
